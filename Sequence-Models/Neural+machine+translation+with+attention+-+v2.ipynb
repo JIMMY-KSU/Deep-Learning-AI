{
 "cells": [
  {
   "cell_type": "markdown",
   "metadata": {},
   "source": [
    "# Neural Machine Translation\n",
    "\n",
    "Welcome to your first programming assignment for this week! \n",
    "\n",
    "You will build a Neural Machine Translation (NMT) model to translate human readable dates (\"25th of June, 2009\") into machine readable dates (\"2009-06-25\"). You will do this using an attention model, one of the most sophisticated sequence to sequence models. \n",
    "\n",
    "This notebook was produced together with NVIDIA's Deep Learning Institute. \n",
    "\n",
    "Let's load all the packages you will need for this assignment."
   ]
  },
  {
   "cell_type": "code",
   "execution_count": 1,
   "metadata": {},
   "outputs": [
    {
     "name": "stderr",
     "output_type": "stream",
     "text": [
      "Using TensorFlow backend.\n"
     ]
    }
   ],
   "source": [
    "from keras.layers import Bidirectional, Concatenate, Permute, Dot, Input, LSTM, Multiply\n",
    "from keras.layers import RepeatVector, Dense, Activation, Lambda\n",
    "from keras.optimizers import Adam\n",
    "from keras.utils import to_categorical\n",
    "from keras.models import load_model, Model\n",
    "import keras.backend as K\n",
    "import numpy as np\n",
    "\n",
    "from faker import Faker\n",
    "import random\n",
    "from tqdm import tqdm\n",
    "from babel.dates import format_date\n",
    "from nmt_utils import *\n",
    "import matplotlib.pyplot as plt\n",
    "%matplotlib inline"
   ]
  },
  {
   "cell_type": "markdown",
   "metadata": {},
   "source": [
    "## 1 - Translating human readable dates into machine readable dates\n",
    "\n",
    "The model you will build here could be used to translate from one language to another, such as translating from English to Hindi. However, language translation requires massive datasets and usually takes days of training on GPUs. To give you a place to experiment with these models even without using massive datasets, we will instead use a simpler \"date translation\" task. \n",
    "\n",
    "The network will input a date written in a variety of possible formats (*e.g. \"the 29th of August 1958\", \"03/30/1968\", \"24 JUNE 1987\"*) and translate them into standardized, machine readable dates (*e.g. \"1958-08-29\", \"1968-03-30\", \"1987-06-24\"*). We will have the network learn to output dates in the common machine-readable format YYYY-MM-DD. \n",
    "\n",
    "\n",
    "\n",
    "<!-- \n",
    "Take a look at [nmt_utils.py](./nmt_utils.py) to see all the formatting. Count and figure out how the formats work, you will need this knowledge later. !--> "
   ]
  },
  {
   "cell_type": "markdown",
   "metadata": {},
   "source": [
    "### 1.1 - Dataset\n",
    "\n",
    "We will train the model on a dataset of 10000 human readable dates and their equivalent, standardized, machine readable dates. Let's run the following cells to load the dataset and print some examples. "
   ]
  },
  {
   "cell_type": "code",
   "execution_count": 2,
   "metadata": {},
   "outputs": [
    {
     "name": "stderr",
     "output_type": "stream",
     "text": [
      "100%|██████████| 10000/10000 [00:01<00:00, 8484.46it/s]\n"
     ]
    }
   ],
   "source": [
    "m = 10000\n",
    "dataset, human_vocab, machine_vocab, inv_machine_vocab = load_dataset(m)"
   ]
  },
  {
   "cell_type": "code",
   "execution_count": 3,
   "metadata": {},
   "outputs": [
    {
     "data": {
      "text/plain": [
       "[('9 may 1998', '1998-05-09'),\n",
       " ('10.09.70', '1970-09-10'),\n",
       " ('4/28/90', '1990-04-28'),\n",
       " ('thursday january 26 1995', '1995-01-26'),\n",
       " ('monday march 7 1983', '1983-03-07'),\n",
       " ('sunday may 22 1988', '1988-05-22'),\n",
       " ('tuesday july 8 2008', '2008-07-08'),\n",
       " ('08 sep 1999', '1999-09-08'),\n",
       " ('1 jan 1981', '1981-01-01'),\n",
       " ('monday may 22 1995', '1995-05-22')]"
      ]
     },
     "execution_count": 3,
     "metadata": {},
     "output_type": "execute_result"
    }
   ],
   "source": [
    "dataset[:10]"
   ]
  },
  {
   "cell_type": "markdown",
   "metadata": {},
   "source": [
    "You've loaded:\n",
    "- `dataset`: a list of tuples of (human readable date, machine readable date)\n",
    "- `human_vocab`: a python dictionary mapping all characters used in the human readable dates to an integer-valued index \n",
    "- `machine_vocab`: a python dictionary mapping all characters used in machine readable dates to an integer-valued index. These indices are not necessarily consistent with `human_vocab`. \n",
    "- `inv_machine_vocab`: the inverse dictionary of `machine_vocab`, mapping from indices back to characters. \n",
    "\n",
    "Let's preprocess the data and map the raw text data into the index values. We will also use Tx=30 (which we assume is the maximum length of the human readable date; if we get a longer input, we would have to truncate it) and Ty=10 (since \"YYYY-MM-DD\" is 10 characters long). "
   ]
  },
  {
   "cell_type": "code",
   "execution_count": 4,
   "metadata": {},
   "outputs": [
    {
     "name": "stdout",
     "output_type": "stream",
     "text": [
      "X.shape: (10000, 30)\n",
      "Y.shape: (10000, 10)\n",
      "Xoh.shape: (10000, 30, 37)\n",
      "Yoh.shape: (10000, 10, 11)\n"
     ]
    }
   ],
   "source": [
    "Tx = 30\n",
    "Ty = 10\n",
    "X, Y, Xoh, Yoh = preprocess_data(dataset, human_vocab, machine_vocab, Tx, Ty)\n",
    "\n",
    "print(\"X.shape:\", X.shape)\n",
    "print(\"Y.shape:\", Y.shape)\n",
    "print(\"Xoh.shape:\", Xoh.shape)\n",
    "print(\"Yoh.shape:\", Yoh.shape)"
   ]
  },
  {
   "cell_type": "markdown",
   "metadata": {},
   "source": [
    "You now have:\n",
    "- `X`: a processed version of the human readable dates in the training set, where each character is replaced by an index mapped to the character via `human_vocab`. Each date is further padded to $T_x$ values with a special character (< pad >). `X.shape = (m, Tx)`\n",
    "- `Y`: a processed version of the machine readable dates in the training set, where each character is replaced by the index it is mapped to in `machine_vocab`. You should have `Y.shape = (m, Ty)`. \n",
    "- `Xoh`: one-hot version of `X`, the \"1\" entry's index is mapped to the character thanks to `human_vocab`. `Xoh.shape = (m, Tx, len(human_vocab))`\n",
    "- `Yoh`: one-hot version of `Y`, the \"1\" entry's index is mapped to the character thanks to `machine_vocab`. `Yoh.shape = (m, Tx, len(machine_vocab))`. Here, `len(machine_vocab) = 11` since there are 11 characters ('-' as well as 0-9). \n"
   ]
  },
  {
   "cell_type": "markdown",
   "metadata": {},
   "source": [
    "Lets also look at some examples of preprocessed training examples. Feel free to play with `index` in the cell below to navigate the dataset and see how source/target dates are preprocessed. "
   ]
  },
  {
   "cell_type": "code",
   "execution_count": 5,
   "metadata": {},
   "outputs": [
    {
     "name": "stdout",
     "output_type": "stream",
     "text": [
      "Source date: 9 may 1998\n",
      "Target date: 1998-05-09\n",
      "\n",
      "Source after preprocessing (indices): [12  0 24 13 34  0  4 12 12 11 36 36 36 36 36 36 36 36 36 36 36 36 36 36 36\n",
      " 36 36 36 36 36]\n",
      "Target after preprocessing (indices): [ 2 10 10  9  0  1  6  0  1 10]\n",
      "\n",
      "Source after preprocessing (one-hot): [[ 0.  0.  0. ...,  0.  0.  0.]\n",
      " [ 1.  0.  0. ...,  0.  0.  0.]\n",
      " [ 0.  0.  0. ...,  0.  0.  0.]\n",
      " ..., \n",
      " [ 0.  0.  0. ...,  0.  0.  1.]\n",
      " [ 0.  0.  0. ...,  0.  0.  1.]\n",
      " [ 0.  0.  0. ...,  0.  0.  1.]]\n",
      "Target after preprocessing (one-hot): [[ 0.  0.  1.  0.  0.  0.  0.  0.  0.  0.  0.]\n",
      " [ 0.  0.  0.  0.  0.  0.  0.  0.  0.  0.  1.]\n",
      " [ 0.  0.  0.  0.  0.  0.  0.  0.  0.  0.  1.]\n",
      " [ 0.  0.  0.  0.  0.  0.  0.  0.  0.  1.  0.]\n",
      " [ 1.  0.  0.  0.  0.  0.  0.  0.  0.  0.  0.]\n",
      " [ 0.  1.  0.  0.  0.  0.  0.  0.  0.  0.  0.]\n",
      " [ 0.  0.  0.  0.  0.  0.  1.  0.  0.  0.  0.]\n",
      " [ 1.  0.  0.  0.  0.  0.  0.  0.  0.  0.  0.]\n",
      " [ 0.  1.  0.  0.  0.  0.  0.  0.  0.  0.  0.]\n",
      " [ 0.  0.  0.  0.  0.  0.  0.  0.  0.  0.  1.]]\n"
     ]
    }
   ],
   "source": [
    "index = 0\n",
    "print(\"Source date:\", dataset[index][0])\n",
    "print(\"Target date:\", dataset[index][1])\n",
    "print()\n",
    "print(\"Source after preprocessing (indices):\", X[index])\n",
    "print(\"Target after preprocessing (indices):\", Y[index])\n",
    "print()\n",
    "print(\"Source after preprocessing (one-hot):\", Xoh[index])\n",
    "print(\"Target after preprocessing (one-hot):\", Yoh[index])"
   ]
  },
  {
   "cell_type": "markdown",
   "metadata": {},
   "source": [
    "## 2 - Neural machine translation with attention\n",
    "\n",
    "If you had to translate a book's paragraph from French to English, you would not read the whole paragraph, then close the book and translate. Even during the translation process, you would read/re-read and focus on the parts of the French paragraph corresponding to the parts of the English you are writing down. \n",
    "\n",
    "The attention mechanism tells a Neural Machine Translation model where it should pay attention to at any step. \n",
    "\n",
    "\n",
    "### 2.1 - Attention mechanism\n",
    "\n",
    "In this part, you will implement the attention mechanism presented in the lecture videos. Here is a figure to remind you how the model works. The diagram on the left shows the attention model. The diagram on the right shows what one \"Attention\" step does to calculate the attention variables $\\alpha^{\\langle t, t' \\rangle}$, which are used to compute the context variable $context^{\\langle t \\rangle}$ for each timestep in the output ($t=1, \\ldots, T_y$). \n",
    "\n",
    "<table>\n",
    "<td> \n",
    "<img src=\"images/attn_model.png\" style=\"width:500;height:500px;\"> <br>\n",
    "</td> \n",
    "<td> \n",
    "<img src=\"images/attn_mechanism.png\" style=\"width:500;height:500px;\"> <br>\n",
    "</td> \n",
    "</table>\n",
    "<caption><center> **Figure 1**: Neural machine translation with attention</center></caption>\n"
   ]
  },
  {
   "cell_type": "markdown",
   "metadata": {},
   "source": [
    "\n",
    "Here are some properties of the model that you may notice: \n",
    "\n",
    "- There are two separate LSTMs in this model (see diagram on the left). Because the one at the bottom of the picture is a Bi-directional LSTM and comes *before* the attention mechanism, we will call it *pre-attention* Bi-LSTM. The LSTM at the top of the diagram comes *after* the attention mechanism, so we will call it the *post-attention* LSTM. The pre-attention Bi-LSTM goes through $T_x$ time steps; the post-attention LSTM goes through $T_y$ time steps. \n",
    "\n",
    "- The post-attention LSTM passes $s^{\\langle t \\rangle}, c^{\\langle t \\rangle}$ from one time step to the next. In the lecture videos, we were using only a basic RNN for the post-activation sequence model, so the state captured by the RNN output activations $s^{\\langle t\\rangle}$. But since we are using an LSTM here, the LSTM has both the output activation $s^{\\langle t\\rangle}$ and the hidden cell state $c^{\\langle t\\rangle}$. However, unlike previous text generation examples (such as Dinosaurus in week 1), in this model the post-activation LSTM at time $t$ does will not take the specific generated $y^{\\langle t-1 \\rangle}$ as input; it only takes $s^{\\langle t\\rangle}$ and $c^{\\langle t\\rangle}$ as input. We have designed the model this way, because (unlike language generation where adjacent characters are highly correlated) there isn't as strong a dependency between the previous character and the next character in a YYYY-MM-DD date. \n",
    "\n",
    "- We use $a^{\\langle t \\rangle} = [\\overrightarrow{a}^{\\langle t \\rangle}; \\overleftarrow{a}^{\\langle t \\rangle}]$ to represent the concatenation of the activations of both the forward-direction and backward-directions of the pre-attention Bi-LSTM. \n",
    "\n",
    "- The diagram on the right uses a `RepeatVector` node to copy $s^{\\langle t-1 \\rangle}$'s value $T_x$ times, and then `Concatenation` to concatenate $s^{\\langle t-1 \\rangle}$ and $a^{\\langle t \\rangle}$ to compute $e^{\\langle t, t'}$, which is then passed through a softmax to compute $\\alpha^{\\langle t, t' \\rangle}$. We'll explain how to use `RepeatVector` and `Concatenation` in Keras below. \n",
    "\n",
    "Lets implement this model. You will start by implementing two functions: `one_step_attention()` and `model()`.\n",
    "\n",
    "**1) `one_step_attention()`**: At step $t$, given all the hidden states of the Bi-LSTM ($[a^{<1>},a^{<2>}, ..., a^{<T_x>}]$) and the previous hidden state of the second LSTM ($s^{<t-1>}$), `one_step_attention()` will compute the attention weights ($[\\alpha^{<t,1>},\\alpha^{<t,2>}, ..., \\alpha^{<t,T_x>}]$) and output the context vector (see Figure  1 (right) for details):\n",
    "$$context^{<t>} = \\sum_{t' = 0}^{T_x} \\alpha^{<t,t'>}a^{<t'>}\\tag{1}$$ \n",
    "\n",
    "Note that we are denoting the attention in this notebook $context^{\\langle t \\rangle}$. In the lecture videos, the context was denoted $c^{\\langle t \\rangle}$, but here we are calling it $context^{\\langle t \\rangle}$ to avoid confusion with the (post-attention) LSTM's internal memory cell variable, which is sometimes also denoted $c^{\\langle t \\rangle}$. \n",
    "  \n",
    "**2) `model()`**: Implements the entire model. It first runs the input through a Bi-LSTM to get back $[a^{<1>},a^{<2>}, ..., a^{<T_x>}]$. Then, it calls `one_step_attention()` $T_y$ times (`for` loop). At each iteration of this loop, it gives the computed context vector $c^{<t>}$ to the second LSTM, and runs the output of the LSTM through a dense layer with softmax activation to generate a prediction $\\hat{y}^{<t>}$. \n",
    "\n",
    "\n",
    "\n",
    "**Exercise**: Implement `one_step_attention()`. The function `model()` will call the layers in `one_step_attention()` $T_y$ using a for-loop, and it is important that all $T_y$ copies have the same weights. I.e., it should not re-initiaiize the weights every time. In other words, all $T_y$ steps should have shared weights. Here's how you can implement layers with shareable weights in Keras:\n",
    "1. Define the layer objects (as global variables for examples).\n",
    "2. Call these objects when propagating the input.\n",
    "\n",
    "We have defined the layers you need as global variables. Please run the following cells to create them. Please check the Keras documentation to make sure you understand what these layers are: [RepeatVector()](https://keras.io/layers/core/#repeatvector), [Concatenate()](https://keras.io/layers/merge/#concatenate), [Dense()](https://keras.io/layers/core/#dense), [Activation()](https://keras.io/layers/core/#activation), [Dot()](https://keras.io/layers/merge/#dot)."
   ]
  },
  {
   "cell_type": "code",
   "execution_count": 22,
   "metadata": {
    "collapsed": true
   },
   "outputs": [],
   "source": [
    "# Defined shared layers as global variables\n",
    "repeator = RepeatVector(Tx, name='rep')\n",
    "concatenator = Concatenate(axis=-1, name='conc')\n",
    "densor = Dense(1, activation = \"relu\", name='densor')\n",
    "activator = Activation(softmax, name='attention_weights') # We are using a custom softmax(axis = 1) loaded in this notebook\n",
    "dotor = Dot(axes = 1, name='doter')"
   ]
  },
  {
   "cell_type": "markdown",
   "metadata": {},
   "source": [
    "Now you can use these layers to implement `one_step_attention()`. In order to propagate a Keras tensor object X through one of these layers, use `layer(X)` (or `layer([X,Y])` if it requires multiple inputs.), e.g. `densor(X)` will propagate X through the `Dense(1)` layer defined above."
   ]
  },
  {
   "cell_type": "code",
   "execution_count": 23,
   "metadata": {
    "collapsed": true
   },
   "outputs": [],
   "source": [
    "# GRADED FUNCTION: one_step_attention\n",
    "\n",
    "def one_step_attention(a, s_prev):\n",
    "    \"\"\"\n",
    "    Performs one step of attention: Outputs a context vector computed as a dot product of the attention weights\n",
    "    \"alphas\" and the hidden states \"a\" of the Bi-LSTM.\n",
    "    \n",
    "    Arguments:\n",
    "    a -- hidden state output of the Bi-LSTM, numpy-array of shape (m, Tx, 2*n_a)\n",
    "    s_prev -- previous hidden state of the (post-attention) LSTM, numpy-array of shape (m, n_s)\n",
    "    \n",
    "    Returns:\n",
    "    context -- context vector, input of the next (post-attetion) LSTM cell\n",
    "    \"\"\"\n",
    "    \n",
    "    ### START CODE HERE ###\n",
    "    # Use repeator to repeat s_prev to be of shape (m, Tx, n_s) so that you can concatenate it with all hidden states \"a\" (≈ 1 line)\n",
    "    s_prev = repeator(s_prev)\n",
    "    # Use concatenator to concatenate a and s_prev on the last axis (≈ 1 line)\n",
    "    concat = concatenator([a, s_prev])\n",
    "    # Use densor to propagate concat through a small fully-connected neural network to compute the \"energies\" variable e. (≈1 lines)\n",
    "    e = densor(concat)\n",
    "    # Use activator and e to compute the attention weights \"alphas\" (≈ 1 line)\n",
    "    alphas = activator(e)\n",
    "    # Use dotor together with \"alphas\" and \"a\" to compute the context vector to be given to the next (post-attention) LSTM-cell (≈ 1 line)\n",
    "    context = dotor([alphas, a])\n",
    "    ### END CODE HERE ###\n",
    "    \n",
    "    return context"
   ]
  },
  {
   "cell_type": "markdown",
   "metadata": {},
   "source": [
    "You will be able to check the expected output of `one_step_attention()` after you've coded the `model()` function."
   ]
  },
  {
   "cell_type": "markdown",
   "metadata": {},
   "source": [
    "**Exercise**: Implement `model()` as explained in figure 2 and the text above. Again, we have defined global layers that will share weights to be used in `model()`."
   ]
  },
  {
   "cell_type": "code",
   "execution_count": 21,
   "metadata": {
    "collapsed": true
   },
   "outputs": [],
   "source": [
    "n_a = 64\n",
    "n_s = 128\n",
    "post_activation_LSTM_cell = LSTM(n_s, return_state = True, name='post_activation')\n",
    "output_layer = Dense(len(machine_vocab), activation=softmax, name='output')"
   ]
  },
  {
   "cell_type": "markdown",
   "metadata": {},
   "source": [
    "Now you can use these layers $T_y$ times in a `for` loop to generate the outputs, and their parameters will not be reinitialized. You will have to carry out the following steps: \n",
    "\n",
    "1. Propagate the input into a [Bidirectional](https://keras.io/layers/wrappers/#bidirectional) [LSTM](https://keras.io/layers/recurrent/#lstm)\n",
    "2. Iterate for $t = 0, \\dots, T_y-1$: \n",
    "    1. Call `one_step_attention()` on $[\\alpha^{<t,1>},\\alpha^{<t,2>}, ..., \\alpha^{<t,T_x>}]$ and $s^{<t-1>}$ to get the context vector $context^{<t>}$.\n",
    "    2. Give $context^{<t>}$ to the post-attention LSTM cell. Remember pass in the previous hidden-state $s^{\\langle t-1\\rangle}$ and cell-states $c^{\\langle t-1\\rangle}$ of this LSTM using `initial_state= [previous hidden state, previous cell state]`. Get back the new hidden state $s^{<t>}$ and the new cell state $c^{<t>}$.\n",
    "    3. Apply a softmax layer to $s^{<t>}$, get the output. \n",
    "    4. Save the output by adding it to the list of outputs.\n",
    "\n",
    "3. Create your Keras model instance, it should have three inputs (\"inputs\", $s^{<0>}$ and $c^{<0>}$) and output the list of \"outputs\"."
   ]
  },
  {
   "cell_type": "code",
   "execution_count": 24,
   "metadata": {
    "collapsed": true
   },
   "outputs": [],
   "source": [
    "# GRADED FUNCTION: model\n",
    "\n",
    "def model(Tx, Ty, n_a, n_s, human_vocab_size, machine_vocab_size):\n",
    "    \"\"\"\n",
    "    Arguments:\n",
    "    Tx -- length of the input sequence\n",
    "    Ty -- length of the output sequence\n",
    "    n_a -- hidden state size of the Bi-LSTM\n",
    "    n_s -- hidden state size of the post-attention LSTM\n",
    "    human_vocab_size -- size of the python dictionary \"human_vocab\"\n",
    "    machine_vocab_size -- size of the python dictionary \"machine_vocab\"\n",
    "\n",
    "    Returns:\n",
    "    model -- Keras model instance\n",
    "    \"\"\"\n",
    "    \n",
    "    # Define the inputs of your model with a shape (Tx,)\n",
    "    # Define s0 and c0, initial hidden state for the decoder LSTM of shape (n_s,)\n",
    "    X = Input(shape=(Tx, human_vocab_size))\n",
    "    s0 = Input(shape=(n_s,), name='s0')\n",
    "    c0 = Input(shape=(n_s,), name='c0')\n",
    "    s = s0\n",
    "    c = c0\n",
    "    \n",
    "    # Initialize empty list of outputs\n",
    "    outputs = []\n",
    "    \n",
    "    ### START CODE HERE ###\n",
    "    \n",
    "    # Step 1: Define your pre-attention Bi-LSTM. Remember to use return_sequences=True. (≈ 1 line)\n",
    "    a = Bidirectional(LSTM(n_a, return_sequences=True))(X)\n",
    "    \n",
    "    # Step 2: Iterate for Ty steps\n",
    "    for t in range(Ty):\n",
    "    \n",
    "        # Step 2.A: Perform one step of the attention mechanism to get back the context vector at step t (≈ 1 line)\n",
    "        context = one_step_attention(a, s)\n",
    "        \n",
    "        # Step 2.B: Apply the post-attention LSTM cell to the \"context\" vector.\n",
    "        # Don't forget to pass: initial_state = [hidden state, cell state] (≈ 1 line)\n",
    "        s, _, c = post_activation_LSTM_cell(context, initial_state=[s, c])\n",
    "        \n",
    "        # Step 2.C: Apply Dense layer to the hidden state output of the post-attention LSTM (≈ 1 line)\n",
    "        out = output_layer(s)\n",
    "        \n",
    "        # Step 2.D: Append \"out\" to the \"outputs\" list (≈ 1 line)\n",
    "        outputs.append(out)\n",
    "    \n",
    "    # Step 3: Create model instance taking three inputs and returning the list of outputs. (≈ 1 line)\n",
    "    model = Model(inputs = [X, s0, c0], outputs = outputs, name='TranslationModel')\n",
    "    \n",
    "    ### END CODE HERE ###\n",
    "    \n",
    "    return model"
   ]
  },
  {
   "cell_type": "markdown",
   "metadata": {},
   "source": [
    "Run the following cell to create your model."
   ]
  },
  {
   "cell_type": "code",
   "execution_count": 25,
   "metadata": {},
   "outputs": [],
   "source": [
    "model = model(Tx, Ty, n_a, n_s, len(human_vocab), len(machine_vocab))"
   ]
  },
  {
   "cell_type": "markdown",
   "metadata": {},
   "source": [
    "Let's get a summary of the model to check if it matches the expected output."
   ]
  },
  {
   "cell_type": "code",
   "execution_count": 26,
   "metadata": {},
   "outputs": [
    {
     "name": "stdout",
     "output_type": "stream",
     "text": [
      "____________________________________________________________________________________________________\n",
      "Layer (type)                     Output Shape          Param #     Connected to                     \n",
      "====================================================================================================\n",
      "input_4 (InputLayer)             (None, 30, 37)        0                                            \n",
      "____________________________________________________________________________________________________\n",
      "s0 (InputLayer)                  (None, 128)           0                                            \n",
      "____________________________________________________________________________________________________\n",
      "bidirectional_4 (Bidirectional)  (None, 30, 128)       52224       input_4[0][0]                    \n",
      "____________________________________________________________________________________________________\n",
      "rep (RepeatVector)               (None, 30, 128)       0           s0[0][0]                         \n",
      "                                                                   post_activation[0][0]            \n",
      "                                                                   post_activation[1][0]            \n",
      "                                                                   post_activation[2][0]            \n",
      "                                                                   post_activation[3][0]            \n",
      "                                                                   post_activation[4][0]            \n",
      "                                                                   post_activation[5][0]            \n",
      "                                                                   post_activation[6][0]            \n",
      "                                                                   post_activation[7][0]            \n",
      "                                                                   post_activation[8][0]            \n",
      "____________________________________________________________________________________________________\n",
      "conc (Concatenate)               (None, 30, 256)       0           bidirectional_4[0][0]            \n",
      "                                                                   rep[0][0]                        \n",
      "                                                                   bidirectional_4[0][0]            \n",
      "                                                                   rep[1][0]                        \n",
      "                                                                   bidirectional_4[0][0]            \n",
      "                                                                   rep[2][0]                        \n",
      "                                                                   bidirectional_4[0][0]            \n",
      "                                                                   rep[3][0]                        \n",
      "                                                                   bidirectional_4[0][0]            \n",
      "                                                                   rep[4][0]                        \n",
      "                                                                   bidirectional_4[0][0]            \n",
      "                                                                   rep[5][0]                        \n",
      "                                                                   bidirectional_4[0][0]            \n",
      "                                                                   rep[6][0]                        \n",
      "                                                                   bidirectional_4[0][0]            \n",
      "                                                                   rep[7][0]                        \n",
      "                                                                   bidirectional_4[0][0]            \n",
      "                                                                   rep[8][0]                        \n",
      "                                                                   bidirectional_4[0][0]            \n",
      "                                                                   rep[9][0]                        \n",
      "____________________________________________________________________________________________________\n",
      "densor (Dense)                   (None, 30, 1)         257         conc[0][0]                       \n",
      "                                                                   conc[1][0]                       \n",
      "                                                                   conc[2][0]                       \n",
      "                                                                   conc[3][0]                       \n",
      "                                                                   conc[4][0]                       \n",
      "                                                                   conc[5][0]                       \n",
      "                                                                   conc[6][0]                       \n",
      "                                                                   conc[7][0]                       \n",
      "                                                                   conc[8][0]                       \n",
      "                                                                   conc[9][0]                       \n",
      "____________________________________________________________________________________________________\n",
      "attention_weights (Activation)   (None, 30, 1)         0           densor[0][0]                     \n",
      "                                                                   densor[1][0]                     \n",
      "                                                                   densor[2][0]                     \n",
      "                                                                   densor[3][0]                     \n",
      "                                                                   densor[4][0]                     \n",
      "                                                                   densor[5][0]                     \n",
      "                                                                   densor[6][0]                     \n",
      "                                                                   densor[7][0]                     \n",
      "                                                                   densor[8][0]                     \n",
      "                                                                   densor[9][0]                     \n",
      "____________________________________________________________________________________________________\n",
      "doter (Dot)                      (None, 1, 128)        0           attention_weights[0][0]          \n",
      "                                                                   bidirectional_4[0][0]            \n",
      "                                                                   attention_weights[1][0]          \n",
      "                                                                   bidirectional_4[0][0]            \n",
      "                                                                   attention_weights[2][0]          \n",
      "                                                                   bidirectional_4[0][0]            \n",
      "                                                                   attention_weights[3][0]          \n",
      "                                                                   bidirectional_4[0][0]            \n",
      "                                                                   attention_weights[4][0]          \n",
      "                                                                   bidirectional_4[0][0]            \n",
      "                                                                   attention_weights[5][0]          \n",
      "                                                                   bidirectional_4[0][0]            \n",
      "                                                                   attention_weights[6][0]          \n",
      "                                                                   bidirectional_4[0][0]            \n",
      "                                                                   attention_weights[7][0]          \n",
      "                                                                   bidirectional_4[0][0]            \n",
      "                                                                   attention_weights[8][0]          \n",
      "                                                                   bidirectional_4[0][0]            \n",
      "                                                                   attention_weights[9][0]          \n",
      "                                                                   bidirectional_4[0][0]            \n",
      "____________________________________________________________________________________________________\n",
      "c0 (InputLayer)                  (None, 128)           0                                            \n",
      "____________________________________________________________________________________________________\n",
      "post_activation (LSTM)           [(None, 128), (None,  131584      doter[0][0]                      \n",
      "                                                                   s0[0][0]                         \n",
      "                                                                   c0[0][0]                         \n",
      "                                                                   doter[1][0]                      \n",
      "                                                                   post_activation[0][0]            \n",
      "                                                                   post_activation[0][2]            \n",
      "                                                                   doter[2][0]                      \n",
      "                                                                   post_activation[1][0]            \n",
      "                                                                   post_activation[1][2]            \n",
      "                                                                   doter[3][0]                      \n",
      "                                                                   post_activation[2][0]            \n",
      "                                                                   post_activation[2][2]            \n",
      "                                                                   doter[4][0]                      \n",
      "                                                                   post_activation[3][0]            \n",
      "                                                                   post_activation[3][2]            \n",
      "                                                                   doter[5][0]                      \n",
      "                                                                   post_activation[4][0]            \n",
      "                                                                   post_activation[4][2]            \n",
      "                                                                   doter[6][0]                      \n",
      "                                                                   post_activation[5][0]            \n",
      "                                                                   post_activation[5][2]            \n",
      "                                                                   doter[7][0]                      \n",
      "                                                                   post_activation[6][0]            \n",
      "                                                                   post_activation[6][2]            \n",
      "                                                                   doter[8][0]                      \n",
      "                                                                   post_activation[7][0]            \n",
      "                                                                   post_activation[7][2]            \n",
      "                                                                   doter[9][0]                      \n",
      "                                                                   post_activation[8][0]            \n",
      "                                                                   post_activation[8][2]            \n",
      "____________________________________________________________________________________________________\n",
      "output (Dense)                   (None, 11)            1419        post_activation[0][0]            \n",
      "                                                                   post_activation[1][0]            \n",
      "                                                                   post_activation[2][0]            \n",
      "                                                                   post_activation[3][0]            \n",
      "                                                                   post_activation[4][0]            \n",
      "                                                                   post_activation[5][0]            \n",
      "                                                                   post_activation[6][0]            \n",
      "                                                                   post_activation[7][0]            \n",
      "                                                                   post_activation[8][0]            \n",
      "                                                                   post_activation[9][0]            \n",
      "====================================================================================================\n",
      "Total params: 185,484\n",
      "Trainable params: 185,484\n",
      "Non-trainable params: 0\n",
      "____________________________________________________________________________________________________\n"
     ]
    }
   ],
   "source": [
    "model.summary()"
   ]
  },
  {
   "cell_type": "markdown",
   "metadata": {},
   "source": [
    "**Expected Output**:\n",
    "\n",
    "Here is the summary you should see\n",
    "<table>\n",
    "    <tr>\n",
    "        <td>\n",
    "            **Total params:**\n",
    "        </td>\n",
    "        <td>\n",
    "         185,484\n",
    "        </td>\n",
    "    </tr>\n",
    "        <tr>\n",
    "        <td>\n",
    "            **Trainable params:**\n",
    "        </td>\n",
    "        <td>\n",
    "         185,484\n",
    "        </td>\n",
    "    </tr>\n",
    "            <tr>\n",
    "        <td>\n",
    "            **Non-trainable params:**\n",
    "        </td>\n",
    "        <td>\n",
    "         0\n",
    "        </td>\n",
    "    </tr>\n",
    "                    <tr>\n",
    "        <td>\n",
    "            **bidirectional_1's output shape **\n",
    "        </td>\n",
    "        <td>\n",
    "         (None, 30, 128)  \n",
    "        </td>\n",
    "    </tr>\n",
    "    <tr>\n",
    "        <td>\n",
    "            **repeat_vector_1's output shape **\n",
    "        </td>\n",
    "        <td>\n",
    "         (None, 30, 128)  \n",
    "        </td>\n",
    "    </tr>\n",
    "                <tr>\n",
    "        <td>\n",
    "            **concatenate_1's output shape **\n",
    "        </td>\n",
    "        <td>\n",
    "         (None, 30, 256) \n",
    "        </td>\n",
    "    </tr>\n",
    "            <tr>\n",
    "        <td>\n",
    "            **attention_weights's output shape **\n",
    "        </td>\n",
    "        <td>\n",
    "         (None, 30, 1)  \n",
    "        </td>\n",
    "    </tr>\n",
    "        <tr>\n",
    "        <td>\n",
    "            **dot_1's output shape **\n",
    "        </td>\n",
    "        <td>\n",
    "         (None, 1, 128) \n",
    "        </td>\n",
    "    </tr>\n",
    "           <tr>\n",
    "        <td>\n",
    "            **dense_2's output shape **\n",
    "        </td>\n",
    "        <td>\n",
    "         (None, 11) \n",
    "        </td>\n",
    "    </tr>\n",
    "</table>\n"
   ]
  },
  {
   "cell_type": "markdown",
   "metadata": {},
   "source": [
    "As usual, after creating your model in Keras, you need to compile it and define what loss, optimizer and metrics your are want to use. Compile your model using `categorical_crossentropy` loss, a custom [Adam](https://keras.io/optimizers/#adam) [optimizer](https://keras.io/optimizers/#usage-of-optimizers) (`learning rate = 0.005`, $\\beta_1 = 0.9$, $\\beta_2 = 0.999$, `decay = 0.01`)  and `['accuracy']` metrics:"
   ]
  },
  {
   "cell_type": "code",
   "execution_count": 27,
   "metadata": {
    "collapsed": true
   },
   "outputs": [],
   "source": [
    "### START CODE HERE ### (≈2 lines)\n",
    "opt = Adam(lr=0.005, beta_1=0.9, beta_2=0.999, decay=0.01)\n",
    "model.compile(loss='categorical_crossentropy', optimizer=opt, metrics=['accuracy'])\n",
    "### END CODE HERE ###"
   ]
  },
  {
   "cell_type": "markdown",
   "metadata": {},
   "source": [
    "The last step is to define all your inputs and outputs to fit the model:\n",
    "- You already have X of shape $(m = 10000, T_x = 30)$ containing the training examples.\n",
    "- You need to create `s0` and `c0` to initialize your `post_activation_LSTM_cell` with 0s.\n",
    "- Given the `model()` you coded, you need the \"outputs\" to be a list of 11 elements of shape (m, T_y). So that: `outputs[i][0], ..., outputs[i][Ty]` represent the true labels (characters) corresponding to the $i^{th}$ training example (`X[i]`). More generally, `outputs[i][j]` is the true label of the $j^{th}$ character in the $i^{th}$ training example."
   ]
  },
  {
   "cell_type": "code",
   "execution_count": 28,
   "metadata": {
    "collapsed": true
   },
   "outputs": [],
   "source": [
    "s0 = np.zeros((m, n_s))\n",
    "c0 = np.zeros((m, n_s))\n",
    "outputs = list(Yoh.swapaxes(0,1))"
   ]
  },
  {
   "cell_type": "markdown",
   "metadata": {},
   "source": [
    "Let's now fit the model and run it for one epoch."
   ]
  },
  {
   "cell_type": "code",
   "execution_count": 30,
   "metadata": {},
   "outputs": [
    {
     "name": "stdout",
     "output_type": "stream",
     "text": [
      "Epoch 1/10\n",
      "10000/10000 [==============================] - 50s - loss: 14.8210 - output_loss_1: 1.0358 - output_loss_2: 0.8336 - output_loss_3: 1.6317 - output_loss_4: 2.6012 - output_loss_5: 0.5828 - output_loss_6: 0.9891 - output_loss_7: 2.4094 - output_loss_8: 0.6587 - output_loss_9: 1.5543 - output_loss_10: 2.5244 - output_acc_1: 0.5574 - output_acc_2: 0.7219 - output_acc_3: 0.3231 - output_acc_4: 0.0827 - output_acc_5: 0.9676 - output_acc_6: 0.5008 - output_acc_7: 0.1241 - output_acc_8: 0.9486 - output_acc_9: 0.2776 - output_acc_10: 0.1126    \n",
      "Epoch 2/10\n",
      "10000/10000 [==============================] - 46s - loss: 7.9574 - output_loss_1: 0.1134 - output_loss_2: 0.0928 - output_loss_3: 0.9088 - output_loss_4: 2.0914 - output_loss_5: 0.0084 - output_loss_6: 0.1732 - output_loss_7: 1.5059 - output_loss_8: 0.0071 - output_loss_9: 1.0039 - output_loss_10: 2.0524 - output_acc_1: 0.9697 - output_acc_2: 0.9697 - output_acc_3: 0.5894 - output_acc_4: 0.2338 - output_acc_5: 1.0000 - output_acc_6: 0.9464 - output_acc_7: 0.4705 - output_acc_8: 1.0000 - output_acc_9: 0.5550 - output_acc_10: 0.2462    \n",
      "Epoch 3/10\n",
      "10000/10000 [==============================] - 46s - loss: 6.1553 - output_loss_1: 0.0739 - output_loss_2: 0.0660 - output_loss_3: 0.6277 - output_loss_4: 1.6414 - output_loss_5: 0.0054 - output_loss_6: 0.1113 - output_loss_7: 1.1052 - output_loss_8: 0.0072 - output_loss_9: 0.8224 - output_loss_10: 1.6949 - output_acc_1: 0.9775 - output_acc_2: 0.9779 - output_acc_3: 0.7605 - output_acc_4: 0.4140 - output_acc_5: 1.0000 - output_acc_6: 0.9662 - output_acc_7: 0.6170 - output_acc_8: 1.0000 - output_acc_9: 0.6322 - output_acc_10: 0.3736    \n",
      "Epoch 4/10\n",
      "10000/10000 [==============================] - 45s - loss: 4.5745 - output_loss_1: 0.0620 - output_loss_2: 0.0579 - output_loss_3: 0.4210 - output_loss_4: 1.1109 - output_loss_5: 0.0047 - output_loss_6: 0.0885 - output_loss_7: 0.8405 - output_loss_8: 0.0071 - output_loss_9: 0.6785 - output_loss_10: 1.3033 - output_acc_1: 0.9786 - output_acc_2: 0.9800 - output_acc_3: 0.8397 - output_acc_4: 0.6101 - output_acc_5: 0.9999 - output_acc_6: 0.9731 - output_acc_7: 0.7174 - output_acc_8: 0.9998 - output_acc_9: 0.7136 - output_acc_10: 0.5131    \n",
      "Epoch 5/10\n",
      "10000/10000 [==============================] - 46s - loss: 3.2380 - output_loss_1: 0.0542 - output_loss_2: 0.0505 - output_loss_3: 0.3457 - output_loss_4: 0.6887 - output_loss_5: 0.0053 - output_loss_6: 0.0726 - output_loss_7: 0.6331 - output_loss_8: 0.0052 - output_loss_9: 0.5319 - output_loss_10: 0.8509 - output_acc_1: 0.9822 - output_acc_2: 0.9822 - output_acc_3: 0.8594 - output_acc_4: 0.7923 - output_acc_5: 0.9999 - output_acc_6: 0.9778 - output_acc_7: 0.8009 - output_acc_8: 1.0000 - output_acc_9: 0.7991 - output_acc_10: 0.7076    \n",
      "Epoch 6/10\n",
      "10000/10000 [==============================] - 46s - loss: 2.3705 - output_loss_1: 0.0468 - output_loss_2: 0.0417 - output_loss_3: 0.2905 - output_loss_4: 0.4416 - output_loss_5: 0.0042 - output_loss_6: 0.0643 - output_loss_7: 0.4820 - output_loss_8: 0.0043 - output_loss_9: 0.4190 - output_loss_10: 0.5761 - output_acc_1: 0.9845 - output_acc_2: 0.9846 - output_acc_3: 0.8753 - output_acc_4: 0.8849 - output_acc_5: 1.0000 - output_acc_6: 0.9803 - output_acc_7: 0.8576 - output_acc_8: 1.0000 - output_acc_9: 0.8452 - output_acc_10: 0.8212    \n",
      "Epoch 7/10\n",
      "10000/10000 [==============================] - 48s - loss: 1.8443 - output_loss_1: 0.0404 - output_loss_2: 0.0354 - output_loss_3: 0.2494 - output_loss_4: 0.3115 - output_loss_5: 0.0034 - output_loss_6: 0.0544 - output_loss_7: 0.3839 - output_loss_8: 0.0038 - output_loss_9: 0.3344 - output_loss_10: 0.4276 - output_acc_1: 0.9858 - output_acc_2: 0.9876 - output_acc_3: 0.8877 - output_acc_4: 0.9151 - output_acc_5: 1.0000 - output_acc_6: 0.9822 - output_acc_7: 0.8876 - output_acc_8: 1.0000 - output_acc_9: 0.8787 - output_acc_10: 0.8650    \n",
      "Epoch 8/10\n",
      "10000/10000 [==============================] - 48s - loss: 1.5325 - output_loss_1: 0.0352 - output_loss_2: 0.0304 - output_loss_3: 0.2230 - output_loss_4: 0.2442 - output_loss_5: 0.0026 - output_loss_6: 0.0489 - output_loss_7: 0.3226 - output_loss_8: 0.0033 - output_loss_9: 0.2740 - output_loss_10: 0.3483 - output_acc_1: 0.9887 - output_acc_2: 0.9889 - output_acc_3: 0.8942 - output_acc_4: 0.9264 - output_acc_5: 1.0000 - output_acc_6: 0.9835 - output_acc_7: 0.9073 - output_acc_8: 1.0000 - output_acc_9: 0.9015 - output_acc_10: 0.8838    \n",
      "Epoch 9/10\n",
      "10000/10000 [==============================] - 48s - loss: 1.3138 - output_loss_1: 0.0303 - output_loss_2: 0.0246 - output_loss_3: 0.1995 - output_loss_4: 0.2029 - output_loss_5: 0.0021 - output_loss_6: 0.0458 - output_loss_7: 0.2802 - output_loss_8: 0.0030 - output_loss_9: 0.2290 - output_loss_10: 0.2963 - output_acc_1: 0.9899 - output_acc_2: 0.9908 - output_acc_3: 0.8990 - output_acc_4: 0.9359 - output_acc_5: 1.0000 - output_acc_6: 0.9854 - output_acc_7: 0.9203 - output_acc_8: 1.0000 - output_acc_9: 0.9213 - output_acc_10: 0.9009    \n",
      "Epoch 10/10\n",
      "10000/10000 [==============================] - 47s - loss: 1.1538 - output_loss_1: 0.0261 - output_loss_2: 0.0207 - output_loss_3: 0.1864 - output_loss_4: 0.1797 - output_loss_5: 0.0018 - output_loss_6: 0.0389 - output_loss_7: 0.2430 - output_loss_8: 0.0028 - output_loss_9: 0.1950 - output_loss_10: 0.2595 - output_acc_1: 0.9922 - output_acc_2: 0.9929 - output_acc_3: 0.9005 - output_acc_4: 0.9392 - output_acc_5: 1.0000 - output_acc_6: 0.9873 - output_acc_7: 0.9317 - output_acc_8: 1.0000 - output_acc_9: 0.9372 - output_acc_10: 0.9100    \n"
     ]
    },
    {
     "data": {
      "text/plain": [
       "<keras.callbacks.History at 0x7f0771b0fba8>"
      ]
     },
     "execution_count": 30,
     "metadata": {},
     "output_type": "execute_result"
    }
   ],
   "source": [
    "model.fit([Xoh, s0, c0], outputs, epochs=10, batch_size=100)"
   ]
  },
  {
   "cell_type": "markdown",
   "metadata": {},
   "source": [
    "While training you can see the loss as well as the accuracy on each of the 10 positions of the output. The table below gives you an example of what the accuracies could be if the batch had 2 examples: \n",
    "\n",
    "<img src=\"images/table.png\" style=\"width:700;height:200px;\"> <br>\n",
    "<caption><center>Thus, `dense_2_acc_8: 0.89` means that you are predicting the 7th character of the output correctly 89% of the time in the current batch of data. </center></caption>\n",
    "\n",
    "\n",
    "We have run this model for longer, and saved the weights. Run the next cell to load our weights. (By training a model for several minutes, you should be able to obtain a model of similar accuracy, but loading our model will save you time.) "
   ]
  },
  {
   "cell_type": "code",
   "execution_count": null,
   "metadata": {},
   "outputs": [],
   "source": [
    "model.load_weights('models/model.h5')"
   ]
  },
  {
   "cell_type": "markdown",
   "metadata": {},
   "source": [
    "You can now see the results on new examples."
   ]
  },
  {
   "cell_type": "code",
   "execution_count": 31,
   "metadata": {},
   "outputs": [
    {
     "name": "stdout",
     "output_type": "stream",
     "text": [
      "source: 3 May 1979\n",
      "output: 1999-05-03\n",
      "source: 5 April 09\n",
      "output: 1990-04-04\n",
      "source: 21th of August 2016\n",
      "output: 2016-08-11\n",
      "source: Tue 10 Jul 2007\n",
      "output: 2007-07-10\n",
      "source: Saturday May 9 2018\n",
      "output: 2018-05-09\n",
      "source: March 3 2001\n",
      "output: 2001-03-03\n",
      "source: March 3rd 2001\n",
      "output: 2000-03-03\n",
      "source: 1 March 2001\n",
      "output: 2011-03-01\n"
     ]
    }
   ],
   "source": [
    "EXAMPLES = ['3 May 1979', '5 April 09', '21th of August 2016', 'Tue 10 Jul 2007', 'Saturday May 9 2018', 'March 3 2001', 'March 3rd 2001', '1 March 2001']\n",
    "for example in EXAMPLES:\n",
    "    \n",
    "    source = string_to_int(example, Tx, human_vocab)\n",
    "    source = np.array(list(map(lambda x: to_categorical(x, num_classes=len(human_vocab)), source))).swapaxes(0,1)\n",
    "    prediction = model.predict([source, s0, c0])\n",
    "    prediction = np.argmax(prediction, axis = -1)\n",
    "    output = [inv_machine_vocab[int(i)] for i in prediction]\n",
    "    \n",
    "    print(\"source:\", example)\n",
    "    print(\"output:\", ''.join(output))"
   ]
  },
  {
   "cell_type": "markdown",
   "metadata": {},
   "source": [
    "You can also change these examples to test with your own examples. The next part will give you a better sense on what the attention mechanism is doing--i.e., what part of the input the network is paying attention to when generating a particular output character. "
   ]
  },
  {
   "cell_type": "markdown",
   "metadata": {},
   "source": [
    "## 3 - Visualizing Attention (Optional / Ungraded)\n",
    "\n",
    "Since the problem has a fixed output length of 10, it is also possible to carry out this task using 10 different softmax units to generate the 10 characters of the output. But one advantage of the attention model is that each part of the output (say the month) knows it needs to depend only on a small part of the input (the characters in the input giving the month). We can  visualize what part of the output is looking at what part of the input.\n",
    "\n",
    "Consider the task of translating \"Saturday 9 May 2018\" to \"2018-05-09\". If we visualize the computed $\\alpha^{\\langle t, t' \\rangle}$ we get this: \n",
    "\n",
    "<img src=\"images/date_attention.png\" style=\"width:600;height:300px;\"> <br>\n",
    "<caption><center> **Figure 8**: Full Attention Map</center></caption>\n",
    "\n",
    "Notice how the output ignores the \"Saturday\" portion of the input. None of the output timesteps are paying much attention to that portion of the input. We see also that 9 has been translated as 09 and May has been correctly translated into 05, with the output paying attention to the parts of the input it needs to to make the translation. The year mostly requires it to pay attention to the input's \"18\" in order to generate \"2018.\" \n",
    "\n"
   ]
  },
  {
   "cell_type": "markdown",
   "metadata": {},
   "source": [
    "### 3.1 - Getting the activations from the network\n",
    "\n",
    "Lets now visualize the attention values in your network. We'll propagate an example through the network, then visualize the values of $\\alpha^{\\langle t, t' \\rangle}$. \n",
    "\n",
    "To figure out where the attention values are located, let's start by printing a summary of the model ."
   ]
  },
  {
   "cell_type": "code",
   "execution_count": 32,
   "metadata": {},
   "outputs": [
    {
     "name": "stdout",
     "output_type": "stream",
     "text": [
      "____________________________________________________________________________________________________\n",
      "Layer (type)                     Output Shape          Param #     Connected to                     \n",
      "====================================================================================================\n",
      "input_4 (InputLayer)             (None, 30, 37)        0                                            \n",
      "____________________________________________________________________________________________________\n",
      "s0 (InputLayer)                  (None, 128)           0                                            \n",
      "____________________________________________________________________________________________________\n",
      "bidirectional_4 (Bidirectional)  (None, 30, 128)       52224       input_4[0][0]                    \n",
      "____________________________________________________________________________________________________\n",
      "rep (RepeatVector)               (None, 30, 128)       0           s0[0][0]                         \n",
      "                                                                   post_activation[0][0]            \n",
      "                                                                   post_activation[1][0]            \n",
      "                                                                   post_activation[2][0]            \n",
      "                                                                   post_activation[3][0]            \n",
      "                                                                   post_activation[4][0]            \n",
      "                                                                   post_activation[5][0]            \n",
      "                                                                   post_activation[6][0]            \n",
      "                                                                   post_activation[7][0]            \n",
      "                                                                   post_activation[8][0]            \n",
      "____________________________________________________________________________________________________\n",
      "conc (Concatenate)               (None, 30, 256)       0           bidirectional_4[0][0]            \n",
      "                                                                   rep[0][0]                        \n",
      "                                                                   bidirectional_4[0][0]            \n",
      "                                                                   rep[1][0]                        \n",
      "                                                                   bidirectional_4[0][0]            \n",
      "                                                                   rep[2][0]                        \n",
      "                                                                   bidirectional_4[0][0]            \n",
      "                                                                   rep[3][0]                        \n",
      "                                                                   bidirectional_4[0][0]            \n",
      "                                                                   rep[4][0]                        \n",
      "                                                                   bidirectional_4[0][0]            \n",
      "                                                                   rep[5][0]                        \n",
      "                                                                   bidirectional_4[0][0]            \n",
      "                                                                   rep[6][0]                        \n",
      "                                                                   bidirectional_4[0][0]            \n",
      "                                                                   rep[7][0]                        \n",
      "                                                                   bidirectional_4[0][0]            \n",
      "                                                                   rep[8][0]                        \n",
      "                                                                   bidirectional_4[0][0]            \n",
      "                                                                   rep[9][0]                        \n",
      "____________________________________________________________________________________________________\n",
      "densor (Dense)                   (None, 30, 1)         257         conc[0][0]                       \n",
      "                                                                   conc[1][0]                       \n",
      "                                                                   conc[2][0]                       \n",
      "                                                                   conc[3][0]                       \n",
      "                                                                   conc[4][0]                       \n",
      "                                                                   conc[5][0]                       \n",
      "                                                                   conc[6][0]                       \n",
      "                                                                   conc[7][0]                       \n",
      "                                                                   conc[8][0]                       \n",
      "                                                                   conc[9][0]                       \n",
      "____________________________________________________________________________________________________\n",
      "attention_weights (Activation)   (None, 30, 1)         0           densor[0][0]                     \n",
      "                                                                   densor[1][0]                     \n",
      "                                                                   densor[2][0]                     \n",
      "                                                                   densor[3][0]                     \n",
      "                                                                   densor[4][0]                     \n",
      "                                                                   densor[5][0]                     \n",
      "                                                                   densor[6][0]                     \n",
      "                                                                   densor[7][0]                     \n",
      "                                                                   densor[8][0]                     \n",
      "                                                                   densor[9][0]                     \n",
      "____________________________________________________________________________________________________\n",
      "doter (Dot)                      (None, 1, 128)        0           attention_weights[0][0]          \n",
      "                                                                   bidirectional_4[0][0]            \n",
      "                                                                   attention_weights[1][0]          \n",
      "                                                                   bidirectional_4[0][0]            \n",
      "                                                                   attention_weights[2][0]          \n",
      "                                                                   bidirectional_4[0][0]            \n",
      "                                                                   attention_weights[3][0]          \n",
      "                                                                   bidirectional_4[0][0]            \n",
      "                                                                   attention_weights[4][0]          \n",
      "                                                                   bidirectional_4[0][0]            \n",
      "                                                                   attention_weights[5][0]          \n",
      "                                                                   bidirectional_4[0][0]            \n",
      "                                                                   attention_weights[6][0]          \n",
      "                                                                   bidirectional_4[0][0]            \n",
      "                                                                   attention_weights[7][0]          \n",
      "                                                                   bidirectional_4[0][0]            \n",
      "                                                                   attention_weights[8][0]          \n",
      "                                                                   bidirectional_4[0][0]            \n",
      "                                                                   attention_weights[9][0]          \n",
      "                                                                   bidirectional_4[0][0]            \n",
      "____________________________________________________________________________________________________\n",
      "c0 (InputLayer)                  (None, 128)           0                                            \n",
      "____________________________________________________________________________________________________\n",
      "post_activation (LSTM)           [(None, 128), (None,  131584      doter[0][0]                      \n",
      "                                                                   s0[0][0]                         \n",
      "                                                                   c0[0][0]                         \n",
      "                                                                   doter[1][0]                      \n",
      "                                                                   post_activation[0][0]            \n",
      "                                                                   post_activation[0][2]            \n",
      "                                                                   doter[2][0]                      \n",
      "                                                                   post_activation[1][0]            \n",
      "                                                                   post_activation[1][2]            \n",
      "                                                                   doter[3][0]                      \n",
      "                                                                   post_activation[2][0]            \n",
      "                                                                   post_activation[2][2]            \n",
      "                                                                   doter[4][0]                      \n",
      "                                                                   post_activation[3][0]            \n",
      "                                                                   post_activation[3][2]            \n",
      "                                                                   doter[5][0]                      \n",
      "                                                                   post_activation[4][0]            \n",
      "                                                                   post_activation[4][2]            \n",
      "                                                                   doter[6][0]                      \n",
      "                                                                   post_activation[5][0]            \n",
      "                                                                   post_activation[5][2]            \n",
      "                                                                   doter[7][0]                      \n",
      "                                                                   post_activation[6][0]            \n",
      "                                                                   post_activation[6][2]            \n",
      "                                                                   doter[8][0]                      \n",
      "                                                                   post_activation[7][0]            \n",
      "                                                                   post_activation[7][2]            \n",
      "                                                                   doter[9][0]                      \n",
      "                                                                   post_activation[8][0]            \n",
      "                                                                   post_activation[8][2]            \n",
      "____________________________________________________________________________________________________\n",
      "output (Dense)                   (None, 11)            1419        post_activation[0][0]            \n",
      "                                                                   post_activation[1][0]            \n",
      "                                                                   post_activation[2][0]            \n",
      "                                                                   post_activation[3][0]            \n",
      "                                                                   post_activation[4][0]            \n",
      "                                                                   post_activation[5][0]            \n",
      "                                                                   post_activation[6][0]            \n",
      "                                                                   post_activation[7][0]            \n",
      "                                                                   post_activation[8][0]            \n",
      "                                                                   post_activation[9][0]            \n",
      "====================================================================================================\n",
      "Total params: 185,484\n",
      "Trainable params: 185,484\n",
      "Non-trainable params: 0\n",
      "____________________________________________________________________________________________________\n"
     ]
    }
   ],
   "source": [
    "model.summary()"
   ]
  },
  {
   "cell_type": "markdown",
   "metadata": {},
   "source": [
    "Navigate through the output of `model.summary()` above. You can see that the layer named `attention_weights` outputs the `alphas` of shape (m, 30, 1) before `dot_2` computes the context vector for every time step $t = 0, \\ldots, T_y-1$. Lets get the activations from this layer.\n",
    "\n",
    "The function `attention_map()` pulls out the attention values from your model and plots them."
   ]
  },
  {
   "cell_type": "code",
   "execution_count": 33,
   "metadata": {
    "scrolled": false
   },
   "outputs": [
    {
     "data": {
      "text/plain": [
       "<matplotlib.figure.Figure at 0x7f0771b0f438>"
      ]
     },
     "metadata": {},
     "output_type": "display_data"
    },
    {
     "data": {
      "image/png": "[encoded data removed]",
      "text/plain": [
       "<matplotlib.figure.Figure at 0x7f076ce4fdd8>"
      ]
     },
     "metadata": {},
     "output_type": "display_data"
    }
   ],
   "source": [
    "attention_map = plot_attention_map(model, human_vocab, inv_machine_vocab, \"Tuesday April 08 1993\", num = 6, n_s = 128)"
   ]
  },
  {
   "cell_type": "markdown",
   "metadata": {},
   "source": [
    "On the generated plot you can observe the values of the attention weights for each character of the predicted output. Examine this plot and check that where the network is paying attention makes sense to you.\n",
    "\n",
    "In the date translation application, you will observe that most of the time attention helps predict the year, and hasn't much impact on predicting the day/month."
   ]
  },
  {
   "cell_type": "markdown",
   "metadata": {},
   "source": [
    "### Congratulations!\n",
    "\n",
    "\n",
    "You have come to the end of this assignment \n",
    "\n",
    "<font color='blue'> **Here's what you should remember from this notebook**:\n",
    "\n",
    "- Machine translation models can be used to map from one sequence to another. They are useful not just for translating human languages (like French->English) but also for tasks like date format translation. \n",
    "- An attention mechanism allows a network to focus on the most relevant parts of the input when producing a specific part of the output. \n",
    "- A network using an attention mechanism can translate from inputs of length $T_x$ to outputs of length $T_y$, where $T_x$ and $T_y$ can be different. \n",
    "- You can visualize attention weights $\\alpha^{\\langle t,t' \\rangle}$ to see what the network is paying attention to while generating each output."
   ]
  },
  {
   "cell_type": "markdown",
   "metadata": {},
   "source": [
    "Congratulations on finishing this assignment! You are now able to implement an attention model and use it to learn complex mappings from one sequence to another. "
   ]
  }
 ],
 "metadata": {
  "coursera": {
   "course_slug": "nlp-sequence-models",
   "graded_item_id": "n16CQ",
   "launcher_item_id": "npjGi"
  },
  "kernelspec": {
   "display_name": "Python 3",
   "language": "python",
   "name": "python3"
  },
  "language_info": {
   "codemirror_mode": {
    "name": "ipython",
    "version": 3
   },
   "file_extension": ".py",
   "mimetype": "text/x-python",
   "name": "python",
   "nbconvert_exporter": "python",
   "pygments_lexer": "ipython3",
   "version": "3.6.0"
  }
 },
 "nbformat": 4,
 "nbformat_minor": 2
}
